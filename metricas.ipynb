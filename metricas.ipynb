{
 "cells": [
  {
   "cell_type": "code",
   "execution_count": 1,
   "metadata": {},
   "outputs": [],
   "source": [
    "from evaluacion import calcular_metricas"
   ]
  },
  {
   "cell_type": "markdown",
   "metadata": {},
   "source": [
    "#### **Separación Batería-Bajo**"
   ]
  },
  {
   "cell_type": "code",
   "execution_count": 2,
   "metadata": {},
   "outputs": [
    {
     "name": "stdout",
     "output_type": "stream",
     "text": [
      "Separación de la batería:\n",
      "SDR: -7.2460758142907755\n"
     ]
    }
   ],
   "source": [
    "path_original = './bajo_bateria/bateria_orig.wav'\n",
    "path_pred = './bajo_bateria/bateria_pred.wav'\n",
    "print('Separación de la batería:')\n",
    "calcular_metricas(path_pred,path_original)"
   ]
  },
  {
   "cell_type": "code",
   "execution_count": 3,
   "metadata": {},
   "outputs": [
    {
     "name": "stdout",
     "output_type": "stream",
     "text": [
      "Separación del bajo:\n",
      "SDR: -0.6587153467562012\n"
     ]
    }
   ],
   "source": [
    "path_original = './bajo_bateria/bajo_orig.wav'\n",
    "path_pred = './bajo_bateria/bajo_pred.wav'\n",
    "print('Separación del bajo:')\n",
    "calcular_metricas(path_pred,path_original)"
   ]
  },
  {
   "cell_type": "markdown",
   "metadata": {},
   "source": [
    "#### **Separación Batería-Vocals**"
   ]
  },
  {
   "cell_type": "code",
   "execution_count": 4,
   "metadata": {},
   "outputs": [
    {
     "name": "stdout",
     "output_type": "stream",
     "text": [
      "Separación de la batería:\n",
      "SDR: -4.999342526010336\n"
     ]
    }
   ],
   "source": [
    "path_original = './vocals_bateria/bateria_orig.wav'\n",
    "path_pred = './vocals_bateria/bateria_pred.wav'\n",
    "print('Separación de la batería:')\n",
    "calcular_metricas(path_pred,path_original)"
   ]
  },
  {
   "cell_type": "code",
   "execution_count": 5,
   "metadata": {},
   "outputs": [
    {
     "name": "stdout",
     "output_type": "stream",
     "text": [
      "Separación de las vocals:\n",
      "SDR: 0.5750964651859979\n"
     ]
    }
   ],
   "source": [
    "path_original = './vocals_bateria/vocals_orig.wav'\n",
    "path_pred = './vocals_bateria/vocals_pred.wav'\n",
    "print('Separación de las vocals:')\n",
    "calcular_metricas(path_pred,path_original)"
   ]
  },
  {
   "cell_type": "markdown",
   "metadata": {},
   "source": [
    "#### **Separación Bajo-Vocals**"
   ]
  },
  {
   "cell_type": "code",
   "execution_count": 6,
   "metadata": {},
   "outputs": [
    {
     "name": "stdout",
     "output_type": "stream",
     "text": [
      "Separación del bajo:\n",
      "SDR: -0.9593893938810647\n"
     ]
    }
   ],
   "source": [
    "path_original = './bajo_vocals/bajo_orig.wav'\n",
    "path_pred = './bajo_vocals/bajo_pred.wav'\n",
    "print('Separación del bajo:')\n",
    "calcular_metricas(path_pred,path_original)"
   ]
  },
  {
   "cell_type": "code",
   "execution_count": 7,
   "metadata": {},
   "outputs": [
    {
     "name": "stdout",
     "output_type": "stream",
     "text": [
      "Separación de las vocals:\n",
      "SDR: -0.45331074355864265\n"
     ]
    }
   ],
   "source": [
    "path_original = './bajo_vocals/vocals_orig.wav'\n",
    "path_pred = './bajo_vocals/vocals_pred.wav'\n",
    "print('Separación de las vocals:')\n",
    "calcular_metricas(path_pred,path_original)"
   ]
  }
 ],
 "metadata": {
  "kernelspec": {
   "display_name": "Python 3",
   "language": "python",
   "name": "python3"
  },
  "language_info": {
   "codemirror_mode": {
    "name": "ipython",
    "version": 3
   },
   "file_extension": ".py",
   "mimetype": "text/x-python",
   "name": "python",
   "nbconvert_exporter": "python",
   "pygments_lexer": "ipython3",
   "version": "3.11.6"
  }
 },
 "nbformat": 4,
 "nbformat_minor": 2
}

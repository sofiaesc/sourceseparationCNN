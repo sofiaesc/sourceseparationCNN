{
 "cells": [
  {
   "cell_type": "code",
   "execution_count": 14,
   "metadata": {},
   "outputs": [],
   "source": [
    "from evaluacion import calcular_metricas"
   ]
  },
  {
   "cell_type": "markdown",
   "metadata": {},
   "source": [
    "#### **Separación Batería-Bajo**"
   ]
  },
  {
   "cell_type": "code",
   "execution_count": 15,
   "metadata": {},
   "outputs": [
    {
     "name": "stdout",
     "output_type": "stream",
     "text": [
      "Separación de la batería:\n",
      "SNR: tensor(-3.2546)\n",
      "SDR: tensor(-7.2461)\n"
     ]
    }
   ],
   "source": [
    "path_original = './bajo_bateria/bateria_orig.wav'\n",
    "path_pred = './bajo_bateria/bateria_pred.wav'\n",
    "print('Separación de la batería:')\n",
    "calcular_metricas(path_pred,path_original)"
   ]
  },
  {
   "cell_type": "code",
   "execution_count": 16,
   "metadata": {},
   "outputs": [
    {
     "name": "stdout",
     "output_type": "stream",
     "text": [
      "Separación del bajo:\n",
      "SNR: tensor(-3.9433)\n",
      "SDR: tensor(-0.6587)\n"
     ]
    }
   ],
   "source": [
    "path_original = './bajo_bateria/bajo_orig.wav'\n",
    "path_pred = './bajo_bateria/bajo_pred.wav'\n",
    "print('Separación del bajo:')\n",
    "calcular_metricas(path_pred,path_original)"
   ]
  },
  {
   "cell_type": "markdown",
   "metadata": {},
   "source": [
    "#### **Separación Batería-Acompañamiento**"
   ]
  },
  {
   "cell_type": "code",
   "execution_count": 17,
   "metadata": {},
   "outputs": [
    {
     "name": "stdout",
     "output_type": "stream",
     "text": [
      "Separación de la batería:\n",
      "SNR: tensor(-7.4598)\n",
      "SDR: tensor(-12.9264)\n"
     ]
    }
   ],
   "source": [
    "path_original = './accompaniment_bateria/bateria_orig.wav'\n",
    "path_pred = './accompaniment_bateria/bateria_pred.wav'\n",
    "print('Separación de la batería:')\n",
    "calcular_metricas(path_pred,path_original)"
   ]
  },
  {
   "cell_type": "code",
   "execution_count": 18,
   "metadata": {},
   "outputs": [
    {
     "name": "stdout",
     "output_type": "stream",
     "text": [
      "Separación del acompañamiento:\n",
      "SNR: tensor(-1.2902)\n",
      "SDR: tensor(-6.3221)\n"
     ]
    }
   ],
   "source": [
    "path_original = './accompaniment_bateria/accompaniment_orig.wav'\n",
    "path_pred = './accompaniment_bateria/accompaniment_pred.wav'\n",
    "print('Separación del acompañamiento:')\n",
    "calcular_metricas(path_pred,path_original)"
   ]
  },
  {
   "cell_type": "markdown",
   "metadata": {},
   "source": [
    "#### **Separación Batería-Vocals**"
   ]
  },
  {
   "cell_type": "code",
   "execution_count": 19,
   "metadata": {},
   "outputs": [
    {
     "name": "stdout",
     "output_type": "stream",
     "text": [
      "Separación de la batería:\n",
      "SNR: tensor(-3.2803)\n",
      "SDR: tensor(-4.9993)\n"
     ]
    }
   ],
   "source": [
    "path_original = './vocals_bateria/bateria_orig.wav'\n",
    "path_pred = './vocals_bateria/bateria_pred.wav'\n",
    "print('Separación de la batería:')\n",
    "calcular_metricas(path_pred,path_original)"
   ]
  },
  {
   "cell_type": "code",
   "execution_count": 20,
   "metadata": {},
   "outputs": [
    {
     "name": "stdout",
     "output_type": "stream",
     "text": [
      "Separación de las vocals:\n",
      "SNR: tensor(-3.9308)\n",
      "SDR: tensor(0.5751)\n"
     ]
    }
   ],
   "source": [
    "path_original = './vocals_bateria/vocals_orig.wav'\n",
    "path_pred = './vocals_bateria/vocals_pred.wav'\n",
    "print('Separación de las vocals:')\n",
    "calcular_metricas(path_pred,path_original)"
   ]
  },
  {
   "cell_type": "markdown",
   "metadata": {},
   "source": [
    "#### **Separación Bajo-Vocals**"
   ]
  },
  {
   "cell_type": "code",
   "execution_count": 21,
   "metadata": {},
   "outputs": [
    {
     "name": "stdout",
     "output_type": "stream",
     "text": [
      "Separación del bajo:\n",
      "SNR: tensor(-4.5760)\n",
      "SDR: tensor(-0.9594)\n"
     ]
    }
   ],
   "source": [
    "path_original = './bajo_vocals/bajo_orig.wav'\n",
    "path_pred = './bajo_vocals/bajo_pred.wav'\n",
    "print('Separación del bajo:')\n",
    "calcular_metricas(path_pred,path_original)"
   ]
  },
  {
   "cell_type": "code",
   "execution_count": 22,
   "metadata": {},
   "outputs": [
    {
     "name": "stdout",
     "output_type": "stream",
     "text": [
      "Separación de las vocals:\n",
      "SNR: tensor(-3.1500)\n",
      "SDR: tensor(-0.4533)\n"
     ]
    }
   ],
   "source": [
    "path_original = './bajo_vocals/vocals_orig.wav'\n",
    "path_pred = './bajo_vocals/vocals_pred.wav'\n",
    "print('Separación de las vocals:')\n",
    "calcular_metricas(path_pred,path_original)"
   ]
  }
 ],
 "metadata": {
  "kernelspec": {
   "display_name": "Python 3",
   "language": "python",
   "name": "python3"
  },
  "language_info": {
   "codemirror_mode": {
    "name": "ipython",
    "version": 3
   },
   "file_extension": ".py",
   "mimetype": "text/x-python",
   "name": "python",
   "nbconvert_exporter": "python",
   "pygments_lexer": "ipython3",
   "version": "3.11.6"
  }
 },
 "nbformat": 4,
 "nbformat_minor": 2
}
